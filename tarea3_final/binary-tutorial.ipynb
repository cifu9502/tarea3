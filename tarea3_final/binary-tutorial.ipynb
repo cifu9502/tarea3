{
 "metadata": {
  "name": ""
 },
 "nbformat": 3,
 "nbformat_minor": 0,
 "worksheets": [
  {
   "cells": [
    {
     "cell_type": "markdown",
     "metadata": {},
     "source": [
      "Para leer y escribir un archivo binario procedemos de la siguiente manera:"
     ]
    },
    {
     "cell_type": "markdown",
     "metadata": {},
     "source": [
      "1-Lectura\n",
      "\n",
      "Se utiliza el c\u00f3digo:\n",
      "\n",
      "    infile = open('direccion del archivo', 'r') \n",
      "    \n",
      "Este c\u00f3digo permite abrir el archivo de texto que deseamos leer. En nuestro caso, si quisieramos abrir el archivo 'Notas.csv', bastar\u00eda con escribir:"
     ]
    },
    {
     "cell_type": "code",
     "collapsed": false,
     "input": [
      "infile = open('Notas.csv', 'r')"
     ],
     "language": "python",
     "metadata": {},
     "outputs": [],
     "prompt_number": 3
    },
    {
     "cell_type": "markdown",
     "metadata": {},
     "source": [
      "Una vez hecho esto, el archivo 'Notas.csv' se encuentra guardado en infile, solo falta llamarlo. Un c\u00f3digo bastante \u00fatil para esto resulta ser:"
     ]
    },
    {
     "cell_type": "code",
     "collapsed": false,
     "input": [
      "text = infile.readlines()"
     ],
     "language": "python",
     "metadata": {},
     "outputs": [],
     "prompt_number": 4
    },
    {
     "cell_type": "markdown",
     "metadata": {},
     "source": [
      "Este c\u00f3digo, guarda las lineas de  'Notas.csv' en una lista, de manera que podemos llamarlas en el momento en que las necesitemos. Si quisieramos por ejemplo imprimir las lineas 1, 3 y 5 de este archivo, bastar\u00eda simplemente con ejecutar el c\u00f3digo:\n"
     ]
    },
    {
     "cell_type": "code",
     "collapsed": false,
     "input": [
      "print text[0]\n",
      "print text[2]\n",
      "print text[4]\n"
     ],
     "language": "python",
     "metadata": {},
     "outputs": [
      {
       "output_type": "stream",
       "stream": "stdout",
       "text": [
        "Taller,1,Taller,2,Taller,3,Taller,4,Taller,5,Taller,6,Taller,7,Taller,8\n",
        "\n",
        "100,90,100,100,85,96,80,85\n",
        "\n",
        "94,90,100,100,75,113,80,100\n",
        "\n"
       ]
      }
     ],
     "prompt_number": 5
    },
    {
     "cell_type": "markdown",
     "metadata": {},
     "source": [
      "Un c\u00f3digo que suele ser bastante \u00fatil es string.split(). Para llamarlos, primero importamos la librer\u00eda string y luego los usamos:"
     ]
    },
    {
     "cell_type": "code",
     "collapsed": false,
     "input": [
      "text[0].split(',')\n"
     ],
     "language": "python",
     "metadata": {},
     "outputs": [
      {
       "metadata": {},
       "output_type": "pyout",
       "prompt_number": 7,
       "text": [
        "['Taller',\n",
        " '1',\n",
        " 'Taller',\n",
        " '2',\n",
        " 'Taller',\n",
        " '3',\n",
        " 'Taller',\n",
        " '4',\n",
        " 'Taller',\n",
        " '5',\n",
        " 'Taller',\n",
        " '6',\n",
        " 'Taller',\n",
        " '7',\n",
        " 'Taller',\n",
        " '8\\n']"
       ]
      }
     ],
     "prompt_number": 7
    },
    {
     "cell_type": "markdown",
     "metadata": {},
     "source": [
      "Este c\u00f3digo, comos se puede ver nos da un vector con los caracteres del sting separados por ','."
     ]
    },
    {
     "cell_type": "markdown",
     "metadata": {},
     "source": [
      "2. Escribir\n",
      "\n",
      "Para escribir un archivo, simplemente utilizamos el codigo arch = open('nombre del archivo a crear', 'w'). En nuestro caso, podr\u00edamos abrir el archivo:"
     ]
    },
    {
     "cell_type": "code",
     "collapsed": false,
     "input": [
      "arch = open('write.dat', 'w')"
     ],
     "language": "python",
     "metadata": {},
     "outputs": [],
     "prompt_number": 8
    },
    {
     "cell_type": "markdown",
     "metadata": {},
     "source": [
      "Si desearamos entonces escribir el texto \"yo se escribir\", bastar\u00eda con ejecutar el c\u00f3dio :\n"
     ]
    },
    {
     "cell_type": "code",
     "collapsed": false,
     "input": [
      "arch.write(\"yo se escribir\")   "
     ],
     "language": "python",
     "metadata": {},
     "outputs": [],
     "prompt_number": 9
    },
    {
     "cell_type": "markdown",
     "metadata": {},
     "source": [
      "Se puede revizar en la librer\u00eda que estamos trabajando el archivo que hemos creado, lo cual concluye este corto tutorial de escribir y leer archivos."
     ]
    }
   ],
   "metadata": {}
  }
 ]
}