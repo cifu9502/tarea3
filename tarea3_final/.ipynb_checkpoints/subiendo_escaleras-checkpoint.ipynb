{
 "metadata": {
  "name": ""
 },
 "nbformat": 3,
 "nbformat_minor": 0,
 "worksheets": [
  {
   "cells": [
    {
     "cell_type": "code",
     "collapsed": false,
     "input": [
      "#El resultado es el n-esimo numero de fibbonacci. Si queremos subir una escalera de n piezas hay dos posibilidades \n",
      "#para el primer paso. Si se da un solo paso, terminar de subir es simplemente el caso n-1, mientras que si se dan dos \n",
      "# pasos al inicio, terminar de subir es el caso n-2. De cualquier forma, el numero de formas de subir una escalera de n \n",
      "#piezas es el numero de formas de subir una de n-1 piezas + el numero de formas de subir una de n-2. Los casos bases son \n",
      "# n=1  hay 1 forma y n = 2 hay dos formas. Esto nos da la recurrencia de fibbonacci por lo que basta con calcularla\n",
      "\n",
      "def calcularFib(n):\n",
      "    n1 = 1\n",
      "    n2 = 2\n",
      "    i = 2\n",
      "    while(i<n):\n",
      "        n2 = n1+n2\n",
      "        n1 = n2-n1\n",
      "        i = i+1\n",
      "       \n",
      "    return n2\n",
      "        \n",
      "print \"Para una escalera de 13 la respuesta es %d\" % calcularFib(13)\n",
      "print \"Para una escalera de 15 la respuesta es %d\" % calcularFib(15)"
     ],
     "language": "python",
     "metadata": {},
     "outputs": [
      {
       "output_type": "stream",
       "stream": "stdout",
       "text": [
        "Para una escalera de 13 la respuesta es 377\n",
        "Para una escalera de 15 la respuesta es 987\n"
       ]
      }
     ],
     "prompt_number": 2
    },
    {
     "cell_type": "code",
     "collapsed": false,
     "input": [
      "import numpy as np"
     ],
     "language": "python",
     "metadata": {},
     "outputs": [],
     "prompt_number": 3
    },
    {
     "cell_type": "code",
     "collapsed": false,
     "input": [
      "#b.\n",
      "import numpy as np\n",
      "#tomamos estas matrices como ejemplo\n",
      "A = [4,4,5,5,1]\n",
      "B = [3,2,4,3,1]\n",
      "\n",
      "#Las matrices A y B tienen que ser de tama\u00f1os iguales, de lo contrario el codigo no va a funcionar\n",
      "def escalera(A,B):\n",
      "    L = len(A)\n",
      "    C = np.zeros(L)\n",
      "    for x in range(0,L):\n",
      "        C[x] = (calcularFib(A[x]))%(2*B[x])\n",
      "    return C\n",
      "    \n",
      "        \n",
      "    "
     ],
     "language": "python",
     "metadata": {},
     "outputs": [],
     "prompt_number": 4
    },
    {
     "cell_type": "code",
     "collapsed": false,
     "input": [
      "\n",
      "escalera(A,B)\n"
     ],
     "language": "python",
     "metadata": {},
     "outputs": [
      {
       "metadata": {},
       "output_type": "pyout",
       "prompt_number": 5,
       "text": [
        "array([ 5.,  1.,  0.,  2.,  0.])"
       ]
      }
     ],
     "prompt_number": 5
    },
    {
     "cell_type": "code",
     "collapsed": false,
     "input": [
      "#Otro ejemplo\n",
      "A = [4,4,5,5,1, 6,7,7,9]\n",
      "B = [3,2,4,3,1, 6,3,2,9]\n",
      "escalera(A,B)"
     ],
     "language": "python",
     "metadata": {},
     "outputs": [
      {
       "metadata": {},
       "output_type": "pyout",
       "prompt_number": 6,
       "text": [
        "array([ 5.,  1.,  0.,  2.,  0.,  1.,  3.,  1.,  1.])"
       ]
      }
     ],
     "prompt_number": 6
    },
    {
     "cell_type": "code",
     "collapsed": false,
     "input": [],
     "language": "python",
     "metadata": {},
     "outputs": []
    }
   ],
   "metadata": {}
  }
 ]
}