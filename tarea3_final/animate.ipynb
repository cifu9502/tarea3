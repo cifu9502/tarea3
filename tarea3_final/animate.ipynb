{
 "metadata": {
  "name": ""
 },
 "nbformat": 3,
 "nbformat_minor": 0,
 "worksheets": [
  {
   "cells": [
    {
     "cell_type": "code",
     "collapsed": false,
     "input": [
      "import numpy as np\n",
      "import string\n",
      "from matplotlib import pyplot as plt\n",
      "from matplotlib import animation"
     ],
     "language": "python",
     "metadata": {},
     "outputs": [],
     "prompt_number": 1
    },
    {
     "cell_type": "code",
     "collapsed": false,
     "input": [
      "#Se fija un string inicial\n",
      "s = 'Test/test00003.txt'\n",
      "i =50;\n",
      "a = []\n",
      "b = []\n",
      "#Se itera cambiando el nombre de este string adecuadamente, y se llama el achivo que tenga este nombre. Los resultados se\n",
      "#guardan en vectores de vectores\n",
      "while(i<5800):\n",
      "    if(i<100):\n",
      "        s = 'Test/test000%d.txt' % i\n",
      "    elif(i<1000):\n",
      "        s = 'Test/test00%d.txt' % i\n",
      "    else:\n",
      "        s = 'Test/test0%d.txt' % i\n",
      "        \n",
      "    infile = open(s, 'r')\n",
      "    text = infile.readlines()\n",
      "    \n",
      "    i= i +50    \n",
      "    #Cada uno de estos vectores, va a contener la primera y seguna columna del archivo i-esimo\n",
      "    ai = []\n",
      "    bi = []\n",
      "    for x in text:\n",
      "        #los datos estan separados por '\\t'\n",
      "        c = x.split('\\t')\n",
      "        ai.append(c[0])\n",
      "        bi.append(c[1])\n",
      "    #se a\u00f1aden los vectores a a y b    \n",
      "    a.append(ai)\n",
      "    b.append(bi)    \n",
      "    \n",
      "\n"
     ],
     "language": "python",
     "metadata": {},
     "outputs": [],
     "prompt_number": 2
    },
    {
     "cell_type": "code",
     "collapsed": false,
     "input": [
      "#Se crea la animacion, a partir de un ejemplo observado en internet.\n",
      "# First set up the figure, the axis, and the plot element we want to animate\n",
      "fig = plt.figure()\n",
      "ax = plt.axes(xlim=(10, 35), ylim=(22, 45))\n",
      "\n",
      "line, = ax.plot([], [],'o')\n",
      "\n",
      "# initialization function: plot the background of each frame\n",
      "def init():\n",
      "    line.set_data([], [])\n",
      "    return line,\n",
      "\n",
      "# animation function.  This is called sequentially\n",
      "def animate(i):\n",
      "    #Va cambiando con el tiempo los datos de manera que van apareciendo  los datos de los diferentes archivos\n",
      "    x = a[i]\n",
      "    y = b[i]\n",
      "    line.set_data(x, y)    \n",
      "    plt.cla()\n",
      "    return line,\n",
      "\n",
      "# call the animator.  blit=True means only re-draw the parts that have changed.\n",
      "anim = animation.FuncAnimation(fig, animate, init_func=init,\n",
      "                               frames= len(a), interval=10, blit=True)\n",
      "\n",
      "\n",
      "plt.show()"
     ],
     "language": "python",
     "metadata": {},
     "outputs": [],
     "prompt_number": 3
    },
    {
     "cell_type": "code",
     "collapsed": false,
     "input": [],
     "language": "python",
     "metadata": {},
     "outputs": [],
     "prompt_number": 65
    },
    {
     "cell_type": "code",
     "collapsed": false,
     "input": [],
     "language": "python",
     "metadata": {},
     "outputs": []
    }
   ],
   "metadata": {}
  }
 ]
}