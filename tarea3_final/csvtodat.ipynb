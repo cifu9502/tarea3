{
 "metadata": {
  "name": ""
 },
 "nbformat": 3,
 "nbformat_minor": 0,
 "worksheets": [
  {
   "cells": [
    {
     "cell_type": "code",
     "collapsed": false,
     "input": [
      "import numpy as np\n",
      "import string\n",
      "infile = open('Notas.csv', 'r')\n",
      "\n",
      "#load the full text by lines\n",
      "text = infile.readlines()\n",
      "arch = open('notas.dat', 'w')\n",
      "a = 0\n",
      "C = text\n",
      "#lee cada linea y cambia las comas por + \n",
      "for x in text:\n",
      "    arch.write(x.replace(\",\", \"+\"))    \n",
      "arch.close()    "
     ],
     "language": "python",
     "metadata": {},
     "outputs": [],
     "prompt_number": 3
    },
    {
     "cell_type": "code",
     "collapsed": false,
     "input": [
      "#Hace lo mismo que el otro pero en bash\n",
      "!cat Notas.csv | sed 's\\,\\+\\' > notas2.dat"
     ],
     "language": "python",
     "metadata": {},
     "outputs": [],
     "prompt_number": 4
    },
    {
     "cell_type": "code",
     "collapsed": false,
     "input": [],
     "language": "python",
     "metadata": {},
     "outputs": []
    }
   ],
   "metadata": {}
  }
 ]
}